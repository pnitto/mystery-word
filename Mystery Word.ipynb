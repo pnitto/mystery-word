{
 "cells": [
  {
   "cell_type": "code",
   "execution_count": 46,
   "metadata": {
    "collapsed": false
   },
   "outputs": [
    {
     "name": "stdout",
     "output_type": "stream",
     "text": [
      "['_', '_', '_', '_', '_', '_', '_', '_']\n",
      "Total letters in word: 8\n",
      "Guesses remaining: 8\n",
      "Guess a letter a\n",
      "Guesses remaining: 7\n",
      "Guess a letter i\n",
      "i is in the word!\n",
      "['_', '_', 'i', '_', '_', '_', '_', '_']\n",
      "__i_____\n",
      "['_', '_', 'i', '_', '_', 'i', '_', '_']\n",
      "__i__i__\n",
      "i is in the word!\n",
      "['_', '_', 'i', '_', '_', 'i', '_', '_']\n",
      "__i__i__\n",
      "['_', '_', 'i', '_', '_', 'i', '_', '_']\n",
      "__i__i__\n",
      "Guesses remaining: 7\n",
      "Guess a letter c\n",
      "c is in the word!\n",
      "['c', '_', 'i', '_', '_', 'i', '_', '_']\n",
      "c_i__i__\n",
      "Guesses remaining: 7\n",
      "Guess a letter h\n",
      "h is in the word!\n",
      "['c', '_', 'i', '_', '_', 'i', '_', 'h']\n",
      "c_i__i_h\n",
      "Guesses remaining: 7\n",
      "Guess a letter l\n",
      "l is in the word!\n",
      "['c', 'l', 'i', '_', '_', 'i', '_', 'h']\n",
      "cli__i_h\n",
      "Guesses remaining: 7\n",
      "Guess a letter t\n",
      "Guesses remaining: 6\n",
      "Guess a letter s\n",
      "s is in the word!\n",
      "['c', 'l', 'i', '_', '_', 'i', 's', 'h']\n",
      "cli__ish\n",
      "Guesses remaining: 6\n",
      "Guess a letter d\n",
      "Guesses remaining: 5\n",
      "Guess a letter w\n",
      "Guesses remaining: 4\n",
      "Guess a letter t\n",
      "Guesses remaining: 3\n",
      "Guess a letter r\n",
      "Guesses remaining: 2\n",
      "Guess a letter p\n",
      "Guesses remaining: 1\n",
      "Guess a letter w\n",
      "You ran out of lives. The word is cliquish\n"
     ]
    }
   ],
   "source": [
    "import random\n",
    "\n",
    "with open('/usr/share/dict/words') as file_text:\n",
    "    word_file = file_text.read()\n",
    "    \n",
    "\n",
    "def mystery_word(word_file):\n",
    "    lives = 8\n",
    "    lower_text = word_file.lower().split('\\n')\n",
    "    random_word = random.choice(lower_text)\n",
    "    underscore = len(random_word) * \"_\"\n",
    "    underscore = list(underscore)\n",
    "    print(underscore)\n",
    "    print(\"Total letters in word: \" + str(len(random_word)))\n",
    "    wrong = False\n",
    "    while True:\n",
    "        if wrong is True:\n",
    "            lives -= 1\n",
    "            if lives <= 0:\n",
    "                print(\"You ran out of lives! The word is \" + random_word)\n",
    "                break\n",
    "        print(\"Guesses remaining: \" + str(lives))\n",
    "        user_guess = input(\"Guess a letter \")\n",
    "        wrong = True\n",
    "        for x in random_word:\n",
    "            if x == user_guess:\n",
    "                print(\"{} is in the word!\".format(x))\n",
    "                wrong = False\n",
    "                for index, letter in enumerate(random_word):\n",
    "                    if user_guess == letter:\n",
    "                        underscore[index] = letter\n",
    "                        print(underscore)\n",
    "                        print(''.join(underscore))\n",
    "                        if '_' not in underscore:\n",
    "                            return(\"You guessed the word correctly!\")\n",
    "\n",
    "mystery_word(word_file)"
   ]
  },
  {
   "cell_type": "code",
   "execution_count": 42,
   "metadata": {
    "collapsed": false
   },
   "outputs": [
    {
     "name": "stdout",
     "output_type": "stream",
     "text": [
      "0 T\n",
      "1 h\n",
      "2 i\n",
      "3 s\n",
      "4  \n",
      "5 i\n",
      "6 s\n",
      "7  \n",
      "8 a\n",
      "9  \n",
      "10 p\n",
      "11 h\n",
      "12 r\n",
      "13 a\n",
      "14 s\n",
      "15 e\n"
     ]
    }
   ],
   "source": [
    "phrase = \"This is a phrase\"\n",
    "\n",
    "for e, i in enumerate(phrase):\n",
    "    print(e,i)"
   ]
  },
  {
   "cell_type": "code",
   "execution_count": null,
   "metadata": {
    "collapsed": true
   },
   "outputs": [],
   "source": []
  }
 ],
 "metadata": {
  "kernelspec": {
   "display_name": "Python 3",
   "language": "python",
   "name": "python3"
  },
  "language_info": {
   "codemirror_mode": {
    "name": "ipython",
    "version": 3
   },
   "file_extension": ".py",
   "mimetype": "text/x-python",
   "name": "python",
   "nbconvert_exporter": "python",
   "pygments_lexer": "ipython3",
   "version": "3.4.3"
  }
 },
 "nbformat": 4,
 "nbformat_minor": 0
}
