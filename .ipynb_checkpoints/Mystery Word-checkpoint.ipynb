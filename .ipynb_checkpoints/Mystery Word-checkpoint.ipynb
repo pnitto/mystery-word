{
 "cells": [
  {
   "cell_type": "code",
   "execution_count": 27,
   "metadata": {
    "collapsed": false
   },
   "outputs": [
    {
     "name": "stdout",
     "output_type": "stream",
     "text": [
      "['_', '_', '_', '_', '_', '_', '_', '_']\n",
      "Total letters in word 8\n"
     ]
    },
    {
     "ename": "TypeError",
     "evalue": "Can't convert 'int' object to str implicitly",
     "output_type": "error",
     "traceback": [
      "\u001b[0;31m---------------------------------------------------------------------------\u001b[0m",
      "\u001b[0;31mTypeError\u001b[0m                                 Traceback (most recent call last)",
      "\u001b[0;32m<ipython-input-27-e7f0f834567a>\u001b[0m in \u001b[0;36m<module>\u001b[0;34m()\u001b[0m\n\u001b[1;32m     39\u001b[0m \u001b[0;34m\u001b[0m\u001b[0m\n\u001b[1;32m     40\u001b[0m \u001b[0;34m\u001b[0m\u001b[0m\n\u001b[0;32m---> 41\u001b[0;31m \u001b[0mprint\u001b[0m\u001b[0;34m(\u001b[0m\u001b[0mmystery_word\u001b[0m\u001b[0;34m(\u001b[0m\u001b[0mword_file\u001b[0m\u001b[0;34m)\u001b[0m\u001b[0;34m)\u001b[0m\u001b[0;34m\u001b[0m\u001b[0m\n\u001b[0m",
      "\u001b[0;32m<ipython-input-27-e7f0f834567a>\u001b[0m in \u001b[0;36mmystery_word\u001b[0;34m(word_file)\u001b[0m\n\u001b[1;32m     20\u001b[0m                 \u001b[0mprint\u001b[0m\u001b[0;34m(\u001b[0m\u001b[0;34m\"You ran out of lives. The word is \"\u001b[0m \u001b[0;34m+\u001b[0m \u001b[0mrandom_word\u001b[0m\u001b[0;34m)\u001b[0m\u001b[0;34m\u001b[0m\u001b[0m\n\u001b[1;32m     21\u001b[0m                 \u001b[0;32mbreak\u001b[0m\u001b[0;34m\u001b[0m\u001b[0m\n\u001b[0;32m---> 22\u001b[0;31m         \u001b[0mprint\u001b[0m\u001b[0;34m(\u001b[0m\u001b[0;34m\"Guesses remaing: \"\u001b[0m \u001b[0;34m+\u001b[0m \u001b[0;34m(\u001b[0m\u001b[0mlives\u001b[0m\u001b[0;34m)\u001b[0m\u001b[0;34m)\u001b[0m\u001b[0;34m\u001b[0m\u001b[0m\n\u001b[0m\u001b[1;32m     23\u001b[0m         \u001b[0mguess\u001b[0m \u001b[0;34m=\u001b[0m \u001b[0minput\u001b[0m\u001b[0;34m(\u001b[0m\u001b[0;34m\"Guess a letter \"\u001b[0m\u001b[0;34m)\u001b[0m\u001b[0;34m\u001b[0m\u001b[0m\n\u001b[1;32m     24\u001b[0m         \u001b[0mwrong\u001b[0m \u001b[0;34m=\u001b[0m \u001b[0;32mTrue\u001b[0m\u001b[0;34m\u001b[0m\u001b[0m\n",
      "\u001b[0;31mTypeError\u001b[0m: Can't convert 'int' object to str implicitly"
     ]
    }
   ],
   "source": [
    "import random\n",
    "\n",
    "with open('/usr/share/dict/words') as file_text:\n",
    "    word_file = file_text.read()\n",
    "    \n",
    "\n",
    "def mystery_word(word_file):\n",
    "    lives = 8\n",
    "    lower_text = word_file.lower().split('\\n')\n",
    "    random_word = random.choice(lower_text)\n",
    "    underscore = len(random_word) * \"_\"\n",
    "    list_of_ = list(underscore)\n",
    "    print(list_of_)\n",
    "    print(\"Total letters in word \" + str(len(random_word)))\n",
    "    wrong = False\n",
    "    while True:\n",
    "        if wrong is True:\n",
    "            lives -= 1\n",
    "            if lives <= 0:\n",
    "                print(\"You ran out of lives. The word is \" + random_word)\n",
    "                break\n",
    "        print(\"Guesses remaing: \" + str(lives))\n",
    "        guess = input(\"Guess a letter \")\n",
    "        wrong = True\n",
    "        for x in random_word:\n",
    "            if x == guess:\n",
    "                print(\"You guessed the word correctly\")\n",
    "                wrong = False\n",
    "                for e, i in enumerate(random_word):\n",
    "                    if guess == i:\n",
    "                        underscore[e] = i\n",
    "                        #print(underscore)\n",
    "                        #print(''.join(underscore))\n",
    "                        if '_' not in underscore:\n",
    "                            return(\"You Win\")\n",
    "                # print(\"Guess's Left '\" + lives)\n",
    "                # print(\"Not there\")\n",
    "\n",
    "\n",
    "\n",
    "print(mystery_word(word_file))"
   ]
  },
  {
   "cell_type": "code",
   "execution_count": null,
   "metadata": {
    "collapsed": false
   },
   "outputs": [],
   "source": []
  },
  {
   "cell_type": "code",
   "execution_count": null,
   "metadata": {
    "collapsed": true
   },
   "outputs": [],
   "source": []
  }
 ],
 "metadata": {
  "kernelspec": {
   "display_name": "Python 3",
   "language": "python",
   "name": "python3"
  },
  "language_info": {
   "codemirror_mode": {
    "name": "ipython",
    "version": 3
   },
   "file_extension": ".py",
   "mimetype": "text/x-python",
   "name": "python",
   "nbconvert_exporter": "python",
   "pygments_lexer": "ipython3",
   "version": "3.4.3"
  }
 },
 "nbformat": 4,
 "nbformat_minor": 0
}
